{
 "cells": [
  {
   "cell_type": "markdown",
   "metadata": {},
   "source": [
    "# Performance Analysis of Awkward-array vs Numba optimized Awkward-array"
   ]
  },
  {
   "cell_type": "markdown",
   "metadata": {},
   "source": [
    "## Content:\n",
    "-  [Awkward package performance on large arrays](#Awkward-package-performance-on-large-arrays)\n",
    "    -  [Profilling of Awkward package](#[Profilling-of-Awkward-package])\n",
    "        -  [Using %%timeit](#Awkward-Array-Using-%%timeit)\n",
    "        -  [Using cProfile](#Awkward-Array-Using-cProfile)\n",
    "  <br>\n",
    "  <br>\n",
    "- [Awkward Numba package](#Awkward-Numba-package-performance-on-large-arrays)\n",
    "    -  [Profilling of Awkward Numba package](#Profilling-of-Awkward-Numba-package)\n",
    "        -  [Using %%timeit](#Awkward-Array-Numba-Using-%%timeit)\n",
    "        -  [Using cProfile](#Awkward-Array-Numba-Using-cProfile)\n",
    "  \n",
    "  \n",
    "- [Speed Difference at a glance](#Speed-Difference-at-a-galnce)\n"
   ]
  },
  {
   "cell_type": "markdown",
   "metadata": {},
   "source": [
    "## Awkward Array  \n",
    "##### Awkward-array is a pure Python+Numpy library for manipulating complex data structures as you would Numpy arrays. Even if your data structures\n",
    " "
   ]
  },
  {
   "cell_type": "code",
   "execution_count": 57,
   "metadata": {},
   "outputs": [],
   "source": [
    "import awkward\n",
    "from awkward import JaggedArray"
   ]
  },
  {
   "cell_type": "code",
   "execution_count": 58,
   "metadata": {},
   "outputs": [
    {
     "name": "stdout",
     "output_type": "stream",
     "text": [
      "array =  [[1.1 2.2 None 3.3 None] [4.4 [5.5]] [<Row 0> None <Row 1>]] \n",
      "type:  <class 'awkward.array.jagged.JaggedArray'>\n"
     ]
    }
   ],
   "source": [
    "array = awkward.fromiter([[1.1, 2.2, None, 3.3, None],\n",
    "                          [4.4, [5.5]],\n",
    "                          [{\"x\": 6, \"y\": {\"z\": 7}}, None, {\"x\": 8, \"y\": {\"z\": 9}}]\n",
    "                         ])\n",
    "print(\"array = \",array, \"\\ntype: \",type(array))"
   ]
  },
  {
   "cell_type": "code",
   "execution_count": 59,
   "metadata": {},
   "outputs": [
    {
     "data": {
      "text/plain": [
       "[[1.1, 2.2, None, 3.3, None],\n",
       " [4.4, [5.5]],\n",
       " [{'x': 6, 'y': {'z': 7}}, None, {'x': 8, 'y': {'z': 9}}]]"
      ]
     },
     "execution_count": 59,
     "metadata": {},
     "output_type": "execute_result"
    }
   ],
   "source": [
    "array.tolist()"
   ]
  },
  {
   "cell_type": "code",
   "execution_count": 60,
   "metadata": {},
   "outputs": [
    {
     "data": {
      "text/plain": [
       "<JaggedArray [[1.1 2.2] [4.4 [5.5]] [<Row 0> None]] at 0x022c1a7e7ac8>"
      ]
     },
     "execution_count": 60,
     "metadata": {},
     "output_type": "execute_result"
    }
   ],
   "source": [
    "array[:, :2]"
   ]
  },
  {
   "cell_type": "markdown",
   "metadata": {},
   "source": [
    "### Awkward Array package performance on large arrays\n",
    "-  [Using %%timeit](#Awkward-Array-Using-%%timeit)\n",
    "-  [Using cProfile](#Awkward-Array-Using-cProfile)"
   ]
  },
  {
   "cell_type": "markdown",
   "metadata": {},
   "source": [
    "#### Awkward-Array-Using-%%timeit"
   ]
  },
  {
   "cell_type": "code",
   "execution_count": 82,
   "metadata": {},
   "outputs": [
    {
     "name": "stdout",
     "output_type": "stream",
     "text": [
      "329 ms ± 21.6 ms per loop (mean ± std. dev. of 7 runs, 1 loop each)\n"
     ]
    }
   ],
   "source": [
    "%%timeit\n",
    "benchmark_no_numba()"
   ]
  },
  {
   "cell_type": "code",
   "execution_count": 91,
   "metadata": {},
   "outputs": [
    {
     "name": "stdout",
     "output_type": "stream",
     "text": [
      "3.57 s ± 127 ms per loop (mean ± std. dev. of 7 runs, 1 loop each)\n"
     ]
    }
   ],
   "source": [
    "time_no_numba = %timeit -po benchmark_no_numba()"
   ]
  },
  {
   "cell_type": "code",
   "execution_count": 30,
   "metadata": {},
   "outputs": [
    {
     "name": "stdout",
     "output_type": "stream",
     "text": [
      "578 ms ± 17 ms per loop (mean ± std. dev. of 7 runs, 1 loop each)\n",
      "490 ms ± 8 ms per loop (mean ± std. dev. of 7 runs, 1 loop each)\n",
      "491 ms ± 16.1 ms per loop (mean ± std. dev. of 7 runs, 1 loop each)\n",
      "575 ms ± 36.9 ms per loop (mean ± std. dev. of 7 runs, 1 loop each)\n",
      "549 ms ± 28.9 ms per loop (mean ± std. dev. of 7 runs, 1 loop each)\n",
      "499 ms ± 43.6 ms per loop (mean ± std. dev. of 7 runs, 1 loop each)\n",
      "578 ms ± 61.1 ms per loop (mean ± std. dev. of 7 runs, 1 loop each)\n",
      "483 ms ± 8.13 ms per loop (mean ± std. dev. of 7 runs, 1 loop each)\n",
      "480 ms ± 4.69 ms per loop (mean ± std. dev. of 7 runs, 1 loop each)\n",
      "532 ms ± 69.9 ms per loop (mean ± std. dev. of 7 runs, 1 loop each)\n"
     ]
    },
    {
     "data": {
      "text/plain": [
       "[0.546779000000015,\n",
       " 0.4808441999999786,\n",
       " 0.47954939999999624,\n",
       " 0.5532634999999573,\n",
       " 0.48279630000001816,\n",
       " 0.4730121000000054,\n",
       " 0.4952147999999852,\n",
       " 0.471652499999891,\n",
       " 0.4732694999999012,\n",
       " 0.4772097999999687]"
      ]
     },
     "execution_count": 30,
     "metadata": {},
     "output_type": "execute_result"
    }
   ],
   "source": [
    "time_no_numba = []\n",
    "for _ in range(10):\n",
    "    time = %timeit -o benchmark_no_numba(data)\n",
    "    time_no_numba.append(time.best)\n",
    "\n",
    "time_no_numba"
   ]
  },
  {
   "cell_type": "markdown",
   "metadata": {},
   "source": [
    "## Awkward Array Numba - A Numba-jitted Awkward Array\n",
    "##### Awkward-array Numba uses jitted loops to help optimise the Awkward-array package. All function calls etc. remain the same as that of the base package."
   ]
  },
  {
   "cell_type": "code",
   "execution_count": 61,
   "metadata": {},
   "outputs": [],
   "source": [
    "import awkward_numba\n",
    "from awkward_numba import JaggedArray"
   ]
  },
  {
   "cell_type": "code",
   "execution_count": 62,
   "metadata": {},
   "outputs": [
    {
     "name": "stdout",
     "output_type": "stream",
     "text": [
      "array =  [[1.1 2.2 None 3.3 None] [4.4 [5.5]] [{'x': 6, 'y': {'z': 7}} None {'x': 8, 'y': {'z': 9}}]] \n",
      "type:  <class 'awkward.array.jagged.JaggedArray'>\n"
     ]
    }
   ],
   "source": [
    "array = JaggedArray.fromiter([[1.1, 2.2, None, 3.3, None],\n",
    "                          [4.4, [5.5]],\n",
    "                          [{\"x\": 6, \"y\": {\"z\": 7}}, None, {\"x\": 8, \"y\": {\"z\": 9}}]\n",
    "                         ])\n",
    "print(\"array = \",array, \"\\ntype: \",type(array))"
   ]
  },
  {
   "cell_type": "code",
   "execution_count": 63,
   "metadata": {},
   "outputs": [
    {
     "data": {
      "text/plain": [
       "[[1.1, 2.2, None, 3.3, None],\n",
       " [4.4, [5.5]],\n",
       " [{'x': 6, 'y': {'z': 7}}, None, {'x': 8, 'y': {'z': 9}}]]"
      ]
     },
     "execution_count": 63,
     "metadata": {},
     "output_type": "execute_result"
    }
   ],
   "source": [
    "array.tolist()"
   ]
  },
  {
   "cell_type": "markdown",
   "metadata": {},
   "source": [
    "### Profilling of Awkward Numba package\n",
    "-  [Using %%timeit](#Awkward-Array-Numba-Using-%%timeit)\n",
    "-  [Using cProfile](#Awkward-Array-Numba-Using-cProfile)"
   ]
  },
  {
   "cell_type": "markdown",
   "metadata": {},
   "source": [
    "##### Awkward Array Numba Using %%timeit"
   ]
  },
  {
   "cell_type": "code",
   "execution_count": 77,
   "metadata": {},
   "outputs": [
    {
     "name": "stdout",
     "output_type": "stream",
     "text": [
      "307 ms ± 23.2 ms per loop (mean ± std. dev. of 7 runs, 1 loop each)\n"
     ]
    }
   ],
   "source": [
    "%%timeit\n",
    "benchmark_numba()"
   ]
  },
  {
   "cell_type": "code",
   "execution_count": 81,
   "metadata": {},
   "outputs": [
    {
     "name": "stdout",
     "output_type": "stream",
     "text": [
      "354 ms ± 53.1 ms per loop (mean ± std. dev. of 7 runs, 1 loop each)\n"
     ]
    }
   ],
   "source": [
    "time_numba = %timeit -o benchmark_numba()"
   ]
  },
  {
   "cell_type": "code",
   "execution_count": 29,
   "metadata": {},
   "outputs": [
    {
     "name": "stdout",
     "output_type": "stream",
     "text": [
      "732 ms ± 94.8 ms per loop (mean ± std. dev. of 7 runs, 1 loop each)\n",
      "707 ms ± 32 ms per loop (mean ± std. dev. of 7 runs, 1 loop each)\n",
      "713 ms ± 70.1 ms per loop (mean ± std. dev. of 7 runs, 1 loop each)\n",
      "788 ms ± 56.5 ms per loop (mean ± std. dev. of 7 runs, 1 loop each)\n",
      "627 ms ± 33.3 ms per loop (mean ± std. dev. of 7 runs, 1 loop each)\n",
      "595 ms ± 18.3 ms per loop (mean ± std. dev. of 7 runs, 1 loop each)\n",
      "620 ms ± 37 ms per loop (mean ± std. dev. of 7 runs, 1 loop each)\n",
      "644 ms ± 51 ms per loop (mean ± std. dev. of 7 runs, 1 loop each)\n",
      "611 ms ± 31 ms per loop (mean ± std. dev. of 7 runs, 1 loop each)\n",
      "831 ms ± 94.7 ms per loop (mean ± std. dev. of 7 runs, 1 loop each)\n"
     ]
    },
    {
     "data": {
      "text/plain": [
       "[0.6046815000000834,\n",
       " 0.641331799999989,\n",
       " 0.6062712000000374,\n",
       " 0.7204532999999174,\n",
       " 0.5949045999999498,\n",
       " 0.5670670000000655,\n",
       " 0.5881273999999621,\n",
       " 0.5915147999999135,\n",
       " 0.5712482999999793,\n",
       " 0.6571864999999661]"
      ]
     },
     "execution_count": 29,
     "metadata": {},
     "output_type": "execute_result"
    }
   ],
   "source": [
    "time_numba = []\n",
    "for _ in range(10):\n",
    "    time = %timeit -o benchmark_numba(data)\n",
    "    time_numba.append(time.best)\n",
    "\n",
    "time_numba"
   ]
  },
  {
   "cell_type": "markdown",
   "metadata": {},
   "source": [
    "### Speed Difference at a glance"
   ]
  },
  {
   "cell_type": "code",
   "execution_count": 71,
   "metadata": {},
   "outputs": [],
   "source": [
    "# time_numba = [1,2,3,4,5,6,7]\n",
    "# time_no_numba = [2*i for i in time_numba]"
   ]
  },
  {
   "cell_type": "code",
   "execution_count": 41,
   "metadata": {},
   "outputs": [
    {
     "data": {
      "image/png": "[encoded data removed]",
      "text/plain": [
       "<Figure size 1152x432 with 1 Axes>"
      ]
     },
     "metadata": {
      "needs_background": "light"
     },
     "output_type": "display_data"
    }
   ],
   "source": [
    "import matplotlib.pyplot as plt\n",
    "time_numba_plot = plt.scatter([i for i in range(len(time_numba))],time_numba, marker = \"o\")\n",
    "time_no_numba_plot = plt.scatter([i for i in range(len(time_numba))],time_no_numba, marker = \"x\")\n",
    "plt.rcParams['axes.facecolor'] = \"#dbe6f5\"\n",
    "plt.title(\"Numba vs No Numba\")\n",
    "plt.xlabel('Iteration')\n",
    "plt.ylabel('Time Taken')\n",
    "plt.legend((time_numba_plot , time_no_numba_plot),(\"Numba\",\"No Numba\"))\n",
    "plt.rcParams[\"figure.figsize\"] = [16,6]\n",
    "plt.show()"
   ]
  },
  {
   "cell_type": "code",
   "execution_count": 44,
   "metadata": {},
   "outputs": [
    {
     "name": "stderr",
     "output_type": "stream",
     "text": [
      "C:\\Users\\ratin\\AppData\\Local\\Continuum\\anaconda3\\envs\\awkward\\lib\\site-packages\\matplotlib\\legend.py:798: UserWarning: Legend does not support [<matplotlib.lines.Line2D object at 0x000001CF490EB080>] instances.\n",
      "A proxy artist may be used instead.\n",
      "See: http://matplotlib.org/users/legend_guide.html#creating-artists-specifically-for-adding-to-the-legend-aka-proxy-artists\n",
      "  \"aka-proxy-artists\".format(orig_handle)\n",
      "C:\\Users\\ratin\\AppData\\Local\\Continuum\\anaconda3\\envs\\awkward\\lib\\site-packages\\matplotlib\\legend.py:798: UserWarning: Legend does not support [<matplotlib.lines.Line2D object at 0x000001CF4906B240>] instances.\n",
      "A proxy artist may be used instead.\n",
      "See: http://matplotlib.org/users/legend_guide.html#creating-artists-specifically-for-adding-to-the-legend-aka-proxy-artists\n",
      "  \"aka-proxy-artists\".format(orig_handle)\n"
     ]
    },
    {
     "data": {
      "image/png": "[encoded data removed]",
      "text/plain": [
       "<Figure size 1152x432 with 1 Axes>"
      ]
     },
     "metadata": {
      "needs_background": "light"
     },
     "output_type": "display_data"
    }
   ],
   "source": [
    "time_numba_plot = plt.plot([i for i in range(len(time_numba))],time_numba, marker = \"o\")\n",
    "time_no_numba_plot = plt.plot([i for i in range(len(time_numba))],time_no_numba, marker = \"x\")\n",
    "plt.rcParams['axes.facecolor'] = \"#dbe6f5\"\n",
    "plt.title(\"Numba vs No Numba\")\n",
    "plt.xlabel('Iteration')\n",
    "plt.ylabel('Time Taken')\n",
    "plt.legend((time_numba_plot , time_no_numba_plot),(\"Numba\",\"No Numba\"))\n",
    "plt.rcParams[\"figure.figsize\"] = [16,6]\n",
    "plt.show()"
   ]
  },
  {
   "cell_type": "code",
   "execution_count": 58,
   "metadata": {},
   "outputs": [
    {
     "data": {
      "image/png": "[encoded data removed]",
      "text/plain": [
       "<Figure size 1152x432 with 1 Axes>"
      ]
     },
     "metadata": {
      "needs_background": "light"
     },
     "output_type": "display_data"
    }
   ],
   "source": [
    "objects = ('Numba','No Numba')\n",
    "y_pos = np.arange(len(objects))\n",
    "performance = [min(time_no_numba),min(time_numba)]\n",
    " \n",
    "plt.bar(y_pos, performance, alpha=0.5)\n",
    "plt.xticks(y_pos, objects)\n",
    "plt.ylabel('Usage')\n",
    "plt.title('Programming language usage')\n",
    " \n",
    "plt.show()"
   ]
  },
  {
   "cell_type": "code",
   "execution_count": 2,
   "metadata": {},
   "outputs": [],
   "source": [
    "import numpy as np\n",
    "import numba\n",
    "from awkward_numba import JaggedArray\n",
    "import random\n",
    "import h5py\n",
    "import awkward"
   ]
  },
  {
   "cell_type": "code",
   "execution_count": 88,
   "metadata": {},
   "outputs": [
    {
     "name": "stdout",
     "output_type": "stream",
     "text": [
      "jagged_array_0\n",
      "jagged_array_1\n",
      "jagged_array_2\n"
     ]
    }
   ],
   "source": [
    "#Error occurs when we use awkward_numba.JaggedArray\n",
    "for i in range(3):\n",
    "    print(\"jagged_array_{}\".format(i))\n",
    "    jagged_array = awkward.JaggedArray.fromiter([[random.randint(1,1000) for _ in range(random.randint(-1,10))]for _ in range(random.randint(-1,8))])\n",
    "    akdh5['jagged_array____{}'.format(i)] = jagged_array\n"
   ]
  },
  {
   "cell_type": "code",
   "execution_count": 48,
   "metadata": {},
   "outputs": [
    {
     "name": "stdout",
     "output_type": "stream",
     "text": [
      "[[611 188] [337 799 292 ... 296 759 856] [146] ... [490 31 90 ... 647 949 778] [956 485] [503]]\n",
      "[]\n",
      "[[269 179 473 ... 22 409 854] [905] [] [690 614 179 ... 149 339 149] [291 780 966 ... 906 545 28]]\n"
     ]
    }
   ],
   "source": [
    "for key in akdh5.keys():\n",
    "    print(akdh5[(key)])"
   ]
  },
  {
   "cell_type": "code",
   "execution_count": 23,
   "metadata": {},
   "outputs": [
    {
     "name": "stdout",
     "output_type": "stream",
     "text": [
      "jagged_array_0\n",
      "jagged_array_1\n",
      "jagged_array_2\n"
     ]
    }
   ],
   "source": [
    "for key in akdh5.keys():\n",
    "    print(key)"
   ]
  },
  {
   "cell_type": "code",
   "execution_count": 25,
   "metadata": {},
   "outputs": [],
   "source": [
    "import random\n",
    "import awkward_numba\n",
    "from awkward_numba import JaggedArray\n",
    "def dataset_generator():\n",
    "    h5file = h5py.File(\"dataset{}.hdf5\".format(random.randint(1000,10000000)),\"w\")\n",
    "    awkwd = awkward.hdf5(h5file)\n",
    "    for i in range(10):\n",
    "        jagged_array = awkward_numba.JaggedArray.fromiter([[random.randint(1,1000) for _ in range(random.randint(-1,1000))]for _ in range(random.randint(-1,10000))])\n",
    "        awkwd['jagged_array_{}'.format(i)] = jagged_array\n",
    "        if(i%1==0):\n",
    "            print(i)\n",
    "#         print('jagged_array_{}'.format(i),jagged_array)\n",
    "    return h5file\n",
    "\n",
    "\n",
    "def dataset_reader(h5file,numba=True):\n",
    "    awkwd = awkward_numba.hdf5(h5file)\n",
    "    for key in h5file.keys():\n",
    "        if numba:\n",
    "            min = awkward.JaggedArray._argminmax_general_numba(awkwd[(key)], True)\n",
    "        else:\n",
    "            min = awkward.JaggedArray._argminmax_general(awkwd[(key)], True)\n",
    "#         print(\"\\nArray is: \",awkwd[key],\"\\n argminmax: \",min)\n",
    "        "
   ]
  },
  {
   "cell_type": "code",
   "execution_count": 3,
   "metadata": {},
   "outputs": [],
   "source": [
    "# import random\n",
    "# import awkward_numba\n",
    "# from awkward_numba import JaggedArray\n",
    "# def dataset_generator():\n",
    "#     dataset = []\n",
    "#     for i in range(0,100):\n",
    "#         jagged_array = awkward_numba.JaggedArray.fromiter([[random.randint(1,1000) for _ in range(random.randint(-1,10))]for _ in range(random.randint(-1,600))])\n",
    "#         dataset.append(jagged_array)\n",
    "#     return dataset\n",
    "\n",
    "\n",
    "# def dataset_reader(dataset,Numba=True):\n",
    "#     for data in dataset:\n",
    "#         if Numba:\n",
    "#             min = awkward_numba.JaggedArray._argminmax_general(data, True)\n",
    "#         else:\n",
    "#             min = awkward_numba.JaggedArray._argminmax_general_native(data, True)\n",
    "# #         print(key,\": \",awkwd[(key)],\" type: \",type(awkwd[(key)]))\n",
    "# #         print(\"/n argminmax\",awkwd[(key)]._argminmax_general(True))\n",
    "        "
   ]
  },
  {
   "cell_type": "code",
   "execution_count": 4,
   "metadata": {},
   "outputs": [],
   "source": [
    "def benchmark_no_numba(data):\n",
    "#     data = dataset_generator()\n",
    "    dataset_reader(data,numba=False)"
   ]
  },
  {
   "cell_type": "code",
   "execution_count": 5,
   "metadata": {},
   "outputs": [],
   "source": [
    "def benchmark_numba(data):\n",
    "#     data = dataset_generator()\n",
    "    dataset_reader(data,numba=True)"
   ]
  },
  {
   "cell_type": "code",
   "execution_count": 26,
   "metadata": {},
   "outputs": [
    {
     "name": "stdout",
     "output_type": "stream",
     "text": [
      "0\n",
      "1\n",
      "2\n",
      "3\n",
      "4\n",
      "5\n",
      "6\n",
      "7\n",
      "8\n",
      "9\n"
     ]
    }
   ],
   "source": [
    "data = dataset_generator()"
   ]
  },
  {
   "cell_type": "code",
   "execution_count": 8,
   "metadata": {},
   "outputs": [
    {
     "data": {
      "text/plain": [
       "10"
      ]
     },
     "execution_count": 8,
     "metadata": {},
     "output_type": "execute_result"
    }
   ],
   "source": [
    "len(data)"
   ]
  },
  {
   "cell_type": "code",
   "execution_count": 27,
   "metadata": {},
   "outputs": [
    {
     "name": "stdout",
     "output_type": "stream",
     "text": [
      "496 ms ± 20.6 ms per loop (mean ± std. dev. of 7 runs, 1 loop each)\n"
     ]
    }
   ],
   "source": [
    "%%timeit\n",
    "dataset_reader(data,False)"
   ]
  },
  {
   "cell_type": "code",
   "execution_count": 28,
   "metadata": {},
   "outputs": [
    {
     "name": "stdout",
     "output_type": "stream",
     "text": [
      "643 ms ± 13.5 ms per loop (mean ± std. dev. of 7 runs, 1 loop each)\n"
     ]
    }
   ],
   "source": [
    "%%timeit\n",
    "dataset_reader(data)"
   ]
  },
  {
   "cell_type": "code",
   "execution_count": 51,
   "metadata": {},
   "outputs": [],
   "source": [
    "arr = JaggedArray.fromiter([[1.1, 2.2, 3.3], [], [5.5, 4.4]])"
   ]
  },
  {
   "cell_type": "code",
   "execution_count": 14,
   "metadata": {},
   "outputs": [],
   "source": [
    "def data_creator(size):\n",
    "    if size==\"Large\":\n",
    "        for i in range(100):\n",
    "            jagged_array = JaggedArray.fromiter([[random.randint(1,1000) for _ in range(random.randint(-1,10000))]for _ in range(random.randint(-1,16000))])\n",
    "            with open('dataset-awkd/jagged_array{}.txt'.format(i), 'w+') as hf:\n",
    "                hf.write(str(jagged_array))\n",
    "    return \"dataset created successfully\""
   ]
  },
  {
   "cell_type": "code",
   "execution_count": 11,
   "metadata": {},
   "outputs": [],
   "source": [
    "for i in range(3):\n",
    "        jagged_array = JaggedArray.fromiter([[random.randint(1,1000) for _ in range(random.randint(-1,10))]for _ in range(random.randint(-1,8))])\n",
    "        with open('dataset-awkd/jagged_array{}.txt'.format(i), 'w+') as hf:\n",
    "            hf.write(str(jagged_array))"
   ]
  }
 ],
 "metadata": {
  "kernelspec": {
   "display_name": "Python 3",
   "language": "python",
   "name": "python3"
  },
  "language_info": {
   "codemirror_mode": {
    "name": "ipython",
    "version": 3
   },
   "file_extension": ".py",
   "mimetype": "text/x-python",
   "name": "python",
   "nbconvert_exporter": "python",
   "pygments_lexer": "ipython3",
   "version": "3.7.2"
  }
 },
 "nbformat": 4,
 "nbformat_minor": 2
}
