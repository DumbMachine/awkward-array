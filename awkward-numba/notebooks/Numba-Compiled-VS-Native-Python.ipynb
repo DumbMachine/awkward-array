{
 "cells": [
  {
   "cell_type": "code",
   "execution_count": 1,
   "metadata": {},
   "outputs": [],
   "source": [
    "from awkward_numba import JaggedArray"
   ]
  },
  {
   "cell_type": "code",
   "execution_count": 37,
   "metadata": {},
   "outputs": [],
   "source": [
    "import awkward\n",
    "import numpy\n",
    "import numba\n",
    "import random"
   ]
  },
  {
   "cell_type": "code",
   "execution_count": 128,
   "metadata": {},
   "outputs": [
    {
     "data": {
      "text/plain": [
       "(<JaggedArrayNumba [[99 78 82 ... 30 83 40] [17 52 79 ... 88 21 6] [80 13 19 ... 12 91 7] ... [45 8 93 ... 95 82 92] [15 55 16 ... 69 27 3] [14 49 18 ... 72 56 42]] at 0x0227d41de0f0>,\n",
       " 30230)"
      ]
     },
     "execution_count": 128,
     "metadata": {},
     "output_type": "execute_result"
    }
   ],
   "source": [
    "a = JaggedArray.fromiter([[random.randint(-1,100) for _ in range(random.randint(-1,5000))]for _ in range(random.randint(-1,16000))])\n",
    "a,len(a)"
   ]
  },
  {
   "cell_type": "code",
   "execution_count": 145,
   "metadata": {},
   "outputs": [
    {
     "name": "stdout",
     "output_type": "stream",
     "text": [
      "546 ms ± 45.2 ms per loop (mean ± std. dev. of 7 runs, 1 loop each)\n"
     ]
    }
   ],
   "source": [
    "%%timeit\n",
    "argmina = JaggedArray._argminmax_general(a, True)\n",
    "argmaxa =JaggedArray._argminmax_general(a, False)"
   ]
  },
  {
   "cell_type": "code",
   "execution_count": 146,
   "metadata": {},
   "outputs": [
    {
     "name": "stdout",
     "output_type": "stream",
     "text": [
      "321 ms ± 20 ms per loop (mean ± std. dev. of 7 runs, 1 loop each)\n"
     ]
    }
   ],
   "source": [
    "%%timeit\n",
    "argmina = JaggedArray._argminmax_general_test(a, True)\n",
    "argmaxa =JaggedArray._argminmax_general_test(a, False)"
   ]
  },
  {
   "cell_type": "code",
   "execution_count": 142,
   "metadata": {},
   "outputs": [
    {
     "name": "stdout",
     "output_type": "stream",
     "text": [
      "a = [[99 78 82 ... 30 83 40] [17 52 79 ... 88 21 6] [80 13 19 ... 12 91 7] ... [45 8 93 ... 95 82 92] [15 55 16 ... 69 27 3] [14 49 18 ... 72 56 42]]\n",
      "a.argmin() = [[46] [40] [31] ... [5] [29] [341]]\n",
      "a.argmax() = [[35] [30] [3] ... [39] [461] [8]]\n"
     ]
    }
   ],
   "source": [
    "print(\"a =\", a)\n",
    "argmina = JaggedArray._argminmax_general(a, True)\n",
    "print(\"a.argmin() =\", argmina)\n",
    "argmaxa =JaggedArray._argminmax_general(a, False)\n",
    "print(\"a.argmax() =\", argmaxa)"
   ]
  }
 ],
 "metadata": {
  "kernelspec": {
   "display_name": "Python 3",
   "language": "python",
   "name": "python3"
  },
  "language_info": {
   "codemirror_mode": {
    "name": "ipython",
    "version": 3
   },
   "file_extension": ".py",
   "mimetype": "text/x-python",
   "name": "python",
   "nbconvert_exporter": "python",
   "pygments_lexer": "ipython3",
   "version": "3.7.2"
  }
 },
 "nbformat": 4,
 "nbformat_minor": 2
}
